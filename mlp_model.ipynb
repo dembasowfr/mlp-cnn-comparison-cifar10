{
 "cells": [
  {
   "cell_type": "markdown",
   "metadata": {},
   "source": [
    "## 1. Install the required packages"
   ]
  },
  {
   "cell_type": "code",
   "execution_count": 72,
   "metadata": {},
   "outputs": [
    {
     "name": "stdout",
     "output_type": "stream",
     "text": [
      "Requirement already satisfied: pandas in c:\\users\\almud\\appdata\\local\\programs\\python\\python310\\lib\\site-packages (from -r requirements.txt (line 1)) (2.2.2)\n",
      "Requirement already satisfied: numpy in c:\\users\\almud\\appdata\\local\\programs\\python\\python310\\lib\\site-packages (from -r requirements.txt (line 2)) (1.26.4)\n",
      "Requirement already satisfied: matplotlib in c:\\users\\almud\\appdata\\local\\programs\\python\\python310\\lib\\site-packages (from -r requirements.txt (line 3)) (3.9.1)\n",
      "Requirement already satisfied: tensorflow in c:\\users\\almud\\appdata\\local\\programs\\python\\python310\\lib\\site-packages (from -r requirements.txt (line 4)) (2.16.2)\n",
      "Requirement already satisfied: scikit-learn in c:\\users\\almud\\appdata\\local\\programs\\python\\python310\\lib\\site-packages (from -r requirements.txt (line 5)) (1.5.1)\n",
      "Requirement already satisfied: seaborn in c:\\users\\almud\\appdata\\local\\programs\\python\\python310\\lib\\site-packages (from -r requirements.txt (line 6)) (0.13.2)\n",
      "Requirement already satisfied: tensorflow_datasets in c:\\users\\almud\\appdata\\local\\programs\\python\\python310\\lib\\site-packages (from -r requirements.txt (line 7)) (4.9.6)\n",
      "Requirement already satisfied: tensorboard in c:\\users\\almud\\appdata\\local\\programs\\python\\python310\\lib\\site-packages (from -r requirements.txt (line 8)) (2.16.2)\n",
      "Requirement already satisfied: python-dateutil>=2.8.2 in c:\\users\\almud\\appdata\\roaming\\python\\python310\\site-packages (from pandas->-r requirements.txt (line 1)) (2.9.0.post0)\n",
      "Requirement already satisfied: pytz>=2020.1 in c:\\users\\almud\\appdata\\local\\programs\\python\\python310\\lib\\site-packages (from pandas->-r requirements.txt (line 1)) (2024.1)\n",
      "Requirement already satisfied: tzdata>=2022.7 in c:\\users\\almud\\appdata\\local\\programs\\python\\python310\\lib\\site-packages (from pandas->-r requirements.txt (line 1)) (2024.1)\n",
      "Requirement already satisfied: contourpy>=1.0.1 in c:\\users\\almud\\appdata\\local\\programs\\python\\python310\\lib\\site-packages (from matplotlib->-r requirements.txt (line 3)) (1.2.1)\n",
      "Requirement already satisfied: cycler>=0.10 in c:\\users\\almud\\appdata\\local\\programs\\python\\python310\\lib\\site-packages (from matplotlib->-r requirements.txt (line 3)) (0.12.1)\n",
      "Requirement already satisfied: fonttools>=4.22.0 in c:\\users\\almud\\appdata\\local\\programs\\python\\python310\\lib\\site-packages (from matplotlib->-r requirements.txt (line 3)) (4.53.1)\n",
      "Requirement already satisfied: kiwisolver>=1.3.1 in c:\\users\\almud\\appdata\\local\\programs\\python\\python310\\lib\\site-packages (from matplotlib->-r requirements.txt (line 3)) (1.4.5)\n",
      "Requirement already satisfied: packaging>=20.0 in c:\\users\\almud\\appdata\\local\\programs\\python\\python310\\lib\\site-packages (from matplotlib->-r requirements.txt (line 3)) (23.2)\n",
      "Requirement already satisfied: pillow>=8 in c:\\users\\almud\\appdata\\local\\programs\\python\\python310\\lib\\site-packages (from matplotlib->-r requirements.txt (line 3)) (10.4.0)\n",
      "Requirement already satisfied: pyparsing>=2.3.1 in c:\\users\\almud\\appdata\\local\\programs\\python\\python310\\lib\\site-packages (from matplotlib->-r requirements.txt (line 3)) (3.1.2)\n",
      "Requirement already satisfied: tensorflow-intel==2.16.2 in c:\\users\\almud\\appdata\\local\\programs\\python\\python310\\lib\\site-packages (from tensorflow->-r requirements.txt (line 4)) (2.16.2)\n",
      "Requirement already satisfied: absl-py>=1.0.0 in c:\\users\\almud\\appdata\\local\\programs\\python\\python310\\lib\\site-packages (from tensorflow-intel==2.16.2->tensorflow->-r requirements.txt (line 4)) (2.1.0)\n",
      "Requirement already satisfied: astunparse>=1.6.0 in c:\\users\\almud\\appdata\\local\\programs\\python\\python310\\lib\\site-packages (from tensorflow-intel==2.16.2->tensorflow->-r requirements.txt (line 4)) (1.6.3)\n",
      "Requirement already satisfied: flatbuffers>=23.5.26 in c:\\users\\almud\\appdata\\local\\programs\\python\\python310\\lib\\site-packages (from tensorflow-intel==2.16.2->tensorflow->-r requirements.txt (line 4)) (24.3.25)\n",
      "Requirement already satisfied: gast!=0.5.0,!=0.5.1,!=0.5.2,>=0.2.1 in c:\\users\\almud\\appdata\\local\\programs\\python\\python310\\lib\\site-packages (from tensorflow-intel==2.16.2->tensorflow->-r requirements.txt (line 4)) (0.6.0)\n",
      "Requirement already satisfied: google-pasta>=0.1.1 in c:\\users\\almud\\appdata\\local\\programs\\python\\python310\\lib\\site-packages (from tensorflow-intel==2.16.2->tensorflow->-r requirements.txt (line 4)) (0.2.0)\n",
      "Requirement already satisfied: h5py>=3.10.0 in c:\\users\\almud\\appdata\\local\\programs\\python\\python310\\lib\\site-packages (from tensorflow-intel==2.16.2->tensorflow->-r requirements.txt (line 4)) (3.11.0)\n",
      "Requirement already satisfied: libclang>=13.0.0 in c:\\users\\almud\\appdata\\local\\programs\\python\\python310\\lib\\site-packages (from tensorflow-intel==2.16.2->tensorflow->-r requirements.txt (line 4)) (18.1.1)\n",
      "Requirement already satisfied: ml-dtypes~=0.3.1 in c:\\users\\almud\\appdata\\local\\programs\\python\\python310\\lib\\site-packages (from tensorflow-intel==2.16.2->tensorflow->-r requirements.txt (line 4)) (0.3.2)\n",
      "Requirement already satisfied: opt-einsum>=2.3.2 in c:\\users\\almud\\appdata\\local\\programs\\python\\python310\\lib\\site-packages (from tensorflow-intel==2.16.2->tensorflow->-r requirements.txt (line 4)) (3.3.0)\n",
      "Requirement already satisfied: protobuf!=4.21.0,!=4.21.1,!=4.21.2,!=4.21.3,!=4.21.4,!=4.21.5,<5.0.0dev,>=3.20.3 in c:\\users\\almud\\appdata\\local\\programs\\python\\python310\\lib\\site-packages (from tensorflow-intel==2.16.2->tensorflow->-r requirements.txt (line 4)) (3.20.3)\n",
      "Requirement already satisfied: requests<3,>=2.21.0 in c:\\users\\almud\\appdata\\local\\programs\\python\\python310\\lib\\site-packages (from tensorflow-intel==2.16.2->tensorflow->-r requirements.txt (line 4)) (2.31.0)\n",
      "Requirement already satisfied: setuptools in c:\\users\\almud\\appdata\\local\\programs\\python\\python310\\lib\\site-packages (from tensorflow-intel==2.16.2->tensorflow->-r requirements.txt (line 4)) (65.5.0)\n",
      "Requirement already satisfied: six>=1.12.0 in c:\\users\\almud\\appdata\\roaming\\python\\python310\\site-packages (from tensorflow-intel==2.16.2->tensorflow->-r requirements.txt (line 4)) (1.16.0)\n",
      "Requirement already satisfied: termcolor>=1.1.0 in c:\\users\\almud\\appdata\\local\\programs\\python\\python310\\lib\\site-packages (from tensorflow-intel==2.16.2->tensorflow->-r requirements.txt (line 4)) (2.4.0)\n",
      "Requirement already satisfied: typing-extensions>=3.6.6 in c:\\users\\almud\\appdata\\local\\programs\\python\\python310\\lib\\site-packages (from tensorflow-intel==2.16.2->tensorflow->-r requirements.txt (line 4)) (4.10.0)\n",
      "Requirement already satisfied: wrapt>=1.11.0 in c:\\users\\almud\\appdata\\local\\programs\\python\\python310\\lib\\site-packages (from tensorflow-intel==2.16.2->tensorflow->-r requirements.txt (line 4)) (1.16.0)\n",
      "Requirement already satisfied: grpcio<2.0,>=1.24.3 in c:\\users\\almud\\appdata\\local\\programs\\python\\python310\\lib\\site-packages (from tensorflow-intel==2.16.2->tensorflow->-r requirements.txt (line 4)) (1.64.1)\n",
      "Requirement already satisfied: keras>=3.0.0 in c:\\users\\almud\\appdata\\local\\programs\\python\\python310\\lib\\site-packages (from tensorflow-intel==2.16.2->tensorflow->-r requirements.txt (line 4)) (3.4.1)\n",
      "Requirement already satisfied: tensorflow-io-gcs-filesystem>=0.23.1 in c:\\users\\almud\\appdata\\local\\programs\\python\\python310\\lib\\site-packages (from tensorflow-intel==2.16.2->tensorflow->-r requirements.txt (line 4)) (0.31.0)\n",
      "Requirement already satisfied: scipy>=1.6.0 in c:\\users\\almud\\appdata\\local\\programs\\python\\python310\\lib\\site-packages (from scikit-learn->-r requirements.txt (line 5)) (1.14.0)\n",
      "Requirement already satisfied: joblib>=1.2.0 in c:\\users\\almud\\appdata\\local\\programs\\python\\python310\\lib\\site-packages (from scikit-learn->-r requirements.txt (line 5)) (1.4.2)\n",
      "Requirement already satisfied: threadpoolctl>=3.1.0 in c:\\users\\almud\\appdata\\local\\programs\\python\\python310\\lib\\site-packages (from scikit-learn->-r requirements.txt (line 5)) (3.5.0)\n",
      "Requirement already satisfied: click in c:\\users\\almud\\appdata\\local\\programs\\python\\python310\\lib\\site-packages (from tensorflow_datasets->-r requirements.txt (line 7)) (8.1.7)\n",
      "Requirement already satisfied: dm-tree in c:\\users\\almud\\appdata\\local\\programs\\python\\python310\\lib\\site-packages (from tensorflow_datasets->-r requirements.txt (line 7)) (0.1.8)\n",
      "Requirement already satisfied: immutabledict in c:\\users\\almud\\appdata\\local\\programs\\python\\python310\\lib\\site-packages (from tensorflow_datasets->-r requirements.txt (line 7)) (4.2.0)\n",
      "Requirement already satisfied: promise in c:\\users\\almud\\appdata\\local\\programs\\python\\python310\\lib\\site-packages (from tensorflow_datasets->-r requirements.txt (line 7)) (2.3)\n",
      "Requirement already satisfied: psutil in c:\\users\\almud\\appdata\\roaming\\python\\python310\\site-packages (from tensorflow_datasets->-r requirements.txt (line 7)) (6.0.0)\n",
      "Requirement already satisfied: pyarrow in c:\\users\\almud\\appdata\\local\\programs\\python\\python310\\lib\\site-packages (from tensorflow_datasets->-r requirements.txt (line 7)) (16.1.0)\n",
      "Requirement already satisfied: simple-parsing in c:\\users\\almud\\appdata\\local\\programs\\python\\python310\\lib\\site-packages (from tensorflow_datasets->-r requirements.txt (line 7)) (0.1.5)\n",
      "Requirement already satisfied: tensorflow-metadata in c:\\users\\almud\\appdata\\local\\programs\\python\\python310\\lib\\site-packages (from tensorflow_datasets->-r requirements.txt (line 7)) (1.15.0)\n",
      "Requirement already satisfied: toml in c:\\users\\almud\\appdata\\local\\programs\\python\\python310\\lib\\site-packages (from tensorflow_datasets->-r requirements.txt (line 7)) (0.10.2)\n",
      "Requirement already satisfied: tqdm in c:\\users\\almud\\appdata\\local\\programs\\python\\python310\\lib\\site-packages (from tensorflow_datasets->-r requirements.txt (line 7)) (4.66.4)\n",
      "Requirement already satisfied: etils>=1.6.0 in c:\\users\\almud\\appdata\\local\\programs\\python\\python310\\lib\\site-packages (from etils[enp,epath,epy,etree]>=1.6.0; python_version < \"3.11\"->tensorflow_datasets->-r requirements.txt (line 7)) (1.7.0)\n",
      "Requirement already satisfied: markdown>=2.6.8 in c:\\users\\almud\\appdata\\local\\programs\\python\\python310\\lib\\site-packages (from tensorboard->-r requirements.txt (line 8)) (3.6)\n",
      "Requirement already satisfied: tensorboard-data-server<0.8.0,>=0.7.0 in c:\\users\\almud\\appdata\\local\\programs\\python\\python310\\lib\\site-packages (from tensorboard->-r requirements.txt (line 8)) (0.7.2)\n",
      "Requirement already satisfied: werkzeug>=1.0.1 in c:\\users\\almud\\appdata\\local\\programs\\python\\python310\\lib\\site-packages (from tensorboard->-r requirements.txt (line 8)) (3.0.3)\n",
      "Requirement already satisfied: fsspec in c:\\users\\almud\\appdata\\local\\programs\\python\\python310\\lib\\site-packages (from etils[enp,epath,epy,etree]>=1.6.0; python_version < \"3.11\"->tensorflow_datasets->-r requirements.txt (line 7)) (2024.6.1)\n",
      "Requirement already satisfied: importlib_resources in c:\\users\\almud\\appdata\\local\\programs\\python\\python310\\lib\\site-packages (from etils[enp,epath,epy,etree]>=1.6.0; python_version < \"3.11\"->tensorflow_datasets->-r requirements.txt (line 7)) (6.4.0)\n",
      "Requirement already satisfied: zipp in c:\\users\\almud\\appdata\\local\\programs\\python\\python310\\lib\\site-packages (from etils[enp,epath,epy,etree]>=1.6.0; python_version < \"3.11\"->tensorflow_datasets->-r requirements.txt (line 7)) (3.19.2)\n",
      "Requirement already satisfied: charset-normalizer<4,>=2 in c:\\users\\almud\\appdata\\local\\programs\\python\\python310\\lib\\site-packages (from requests<3,>=2.21.0->tensorflow-intel==2.16.2->tensorflow->-r requirements.txt (line 4)) (3.3.2)\n",
      "Requirement already satisfied: idna<4,>=2.5 in c:\\users\\almud\\appdata\\local\\programs\\python\\python310\\lib\\site-packages (from requests<3,>=2.21.0->tensorflow-intel==2.16.2->tensorflow->-r requirements.txt (line 4)) (3.6)\n",
      "Requirement already satisfied: urllib3<3,>=1.21.1 in c:\\users\\almud\\appdata\\local\\programs\\python\\python310\\lib\\site-packages (from requests<3,>=2.21.0->tensorflow-intel==2.16.2->tensorflow->-r requirements.txt (line 4)) (2.2.1)\n",
      "Requirement already satisfied: certifi>=2017.4.17 in c:\\users\\almud\\appdata\\local\\programs\\python\\python310\\lib\\site-packages (from requests<3,>=2.21.0->tensorflow-intel==2.16.2->tensorflow->-r requirements.txt (line 4)) (2024.2.2)\n",
      "Requirement already satisfied: MarkupSafe>=2.1.1 in c:\\users\\almud\\appdata\\local\\programs\\python\\python310\\lib\\site-packages (from werkzeug>=1.0.1->tensorboard->-r requirements.txt (line 8)) (2.1.5)\n",
      "Requirement already satisfied: colorama in c:\\users\\almud\\appdata\\roaming\\python\\python310\\site-packages (from click->tensorflow_datasets->-r requirements.txt (line 7)) (0.4.6)\n",
      "Requirement already satisfied: docstring-parser~=0.15 in c:\\users\\almud\\appdata\\local\\programs\\python\\python310\\lib\\site-packages (from simple-parsing->tensorflow_datasets->-r requirements.txt (line 7)) (0.16)\n",
      "Requirement already satisfied: wheel<1.0,>=0.23.0 in c:\\users\\almud\\appdata\\local\\programs\\python\\python310\\lib\\site-packages (from astunparse>=1.6.0->tensorflow-intel==2.16.2->tensorflow->-r requirements.txt (line 4)) (0.43.0)\n",
      "Requirement already satisfied: rich in c:\\users\\almud\\appdata\\local\\programs\\python\\python310\\lib\\site-packages (from keras>=3.0.0->tensorflow-intel==2.16.2->tensorflow->-r requirements.txt (line 4)) (13.7.1)\n",
      "Requirement already satisfied: namex in c:\\users\\almud\\appdata\\local\\programs\\python\\python310\\lib\\site-packages (from keras>=3.0.0->tensorflow-intel==2.16.2->tensorflow->-r requirements.txt (line 4)) (0.0.8)\n",
      "Requirement already satisfied: optree in c:\\users\\almud\\appdata\\local\\programs\\python\\python310\\lib\\site-packages (from keras>=3.0.0->tensorflow-intel==2.16.2->tensorflow->-r requirements.txt (line 4)) (0.12.1)\n",
      "Requirement already satisfied: markdown-it-py>=2.2.0 in c:\\users\\almud\\appdata\\local\\programs\\python\\python310\\lib\\site-packages (from rich->keras>=3.0.0->tensorflow-intel==2.16.2->tensorflow->-r requirements.txt (line 4)) (3.0.0)\n",
      "Requirement already satisfied: pygments<3.0.0,>=2.13.0 in c:\\users\\almud\\appdata\\roaming\\python\\python310\\site-packages (from rich->keras>=3.0.0->tensorflow-intel==2.16.2->tensorflow->-r requirements.txt (line 4)) (2.18.0)\n",
      "Requirement already satisfied: mdurl~=0.1 in c:\\users\\almud\\appdata\\local\\programs\\python\\python310\\lib\\site-packages (from markdown-it-py>=2.2.0->rich->keras>=3.0.0->tensorflow-intel==2.16.2->tensorflow->-r requirements.txt (line 4)) (0.1.2)\n"
     ]
    },
    {
     "name": "stderr",
     "output_type": "stream",
     "text": [
      "\n",
      "[notice] A new release of pip is available: 24.1.2 -> 24.2\n",
      "[notice] To update, run: python.exe -m pip install --upgrade pip\n"
     ]
    }
   ],
   "source": [
    "!pip install -r requirements.txt"
   ]
  },
  {
   "cell_type": "markdown",
   "metadata": {},
   "source": [
    "## 2. Import the required libraries"
   ]
  },
  {
   "cell_type": "code",
   "execution_count": 73,
   "metadata": {},
   "outputs": [],
   "source": [
    "import numpy as np\n",
    "import tensorflow as tf\n",
    "import matplotlib.pyplot as plt\n",
    "import os\n",
    "# cifar10 dataset\n",
    "from tensorflow.keras.datasets import cifar10\n",
    "from tensorflow.keras.models import Sequential\n",
    "from tensorflow.keras.layers import Dense, Flatten, Conv2D, MaxPooling2D, Dropout\n",
    "from tensorflow.keras.utils import to_categorical\n",
    "from tensorflow.keras.callbacks import ModelCheckpoint, EarlyStopping\n",
    "from tensorflow.keras.optimizers import Adam\n",
    "from tensorflow.keras.preprocessing.image import ImageDataGenerator"
   ]
  },
  {
   "cell_type": "markdown",
   "metadata": {},
   "source": [
    "## 3. DATA PREPROCESSING"
   ]
  },
  {
   "cell_type": "markdown",
   "metadata": {},
   "source": [
    "### 3.1 Load the data"
   ]
  },
  {
   "cell_type": "code",
   "execution_count": 74,
   "metadata": {},
   "outputs": [],
   "source": [
    "(X_train, y_train), (X_test, y_test) = cifar10.load_data()"
   ]
  },
  {
   "cell_type": "code",
   "execution_count": 75,
   "metadata": {},
   "outputs": [
    {
     "name": "stdout",
     "output_type": "stream",
     "text": [
      "(50000, 32, 32, 3)\n",
      "(50000, 1)\n",
      "(10000, 32, 32, 3)\n",
      "(10000, 1)\n"
     ]
    }
   ],
   "source": [
    "# Check if the data is loaded correctly\n",
    "print(X_train.shape)\n",
    "print(y_train.shape)\n",
    "print(X_test.shape)\n",
    "print(y_test.shape)"
   ]
  },
  {
   "cell_type": "markdown",
   "metadata": {},
   "source": [
    "### 3.2 Normalize the data"
   ]
  },
  {
   "cell_type": "code",
   "execution_count": 76,
   "metadata": {},
   "outputs": [],
   "source": [
    "# The images in X_train and X_test are initially loaded as integers (uint8), with pixel values ranging from 0 to 255.\n",
    "#  convert the images to float32 - this is the datatype that the model expects.\n",
    "X_train = X_train.astype('float32')\n",
    "X_test = X_test.astype('float32')\n",
    "\n",
    "# normalize the images\n",
    "X_train = X_train / 255.0\n",
    "X_test = X_test / 255.0"
   ]
  },
  {
   "cell_type": "markdown",
   "metadata": {},
   "source": [
    "### 3.3 Split the data into training and testing sets"
   ]
  },
  {
   "cell_type": "code",
   "execution_count": 77,
   "metadata": {},
   "outputs": [],
   "source": [
    "\n",
    "from sklearn.model_selection import train_test_split\n",
    "# 20% of the training data will be used for validation\n",
    "X_train, X_val, y_train, y_val = train_test_split(X_train, y_train, test_size=0.2, random_state=42)"
   ]
  },
  {
   "cell_type": "code",
   "execution_count": 78,
   "metadata": {},
   "outputs": [
    {
     "name": "stdout",
     "output_type": "stream",
     "text": [
      "(40000, 32, 32, 3)\n",
      "(40000, 1)\n",
      "(10000, 32, 32, 3)\n",
      "(10000, 1)\n"
     ]
    }
   ],
   "source": [
    "# check the shape of the data\n",
    "print(X_train.shape)\n",
    "print(y_train.shape)\n",
    "\n",
    "print(X_test.shape)\n",
    "print(y_test.shape)"
   ]
  },
  {
   "cell_type": "markdown",
   "metadata": {},
   "source": [
    "### 3.4 Reshape the data to fit the model input"
   ]
  },
  {
   "cell_type": "code",
   "execution_count": 79,
   "metadata": {},
   "outputs": [],
   "source": [
    "# Convert the labels to one-hot encoding\n",
    "y_train = to_categorical(y_train)  \n",
    "y_test = to_categorical(y_test)"
   ]
  },
  {
   "cell_type": "code",
   "execution_count": 80,
   "metadata": {},
   "outputs": [
    {
     "name": "stdout",
     "output_type": "stream",
     "text": [
      "(40000, 10)\n",
      "(10000, 10)\n"
     ]
    }
   ],
   "source": [
    "# test the new data:\n",
    "print(y_train.shape)\n",
    "print(y_test.shape)\n"
   ]
  },
  {
   "cell_type": "markdown",
   "metadata": {},
   "source": [
    "## 4. BUILD THE MODEL"
   ]
  }
 ],
 "metadata": {
  "kernelspec": {
   "display_name": "Python 3",
   "language": "python",
   "name": "python3"
  },
  "language_info": {
   "codemirror_mode": {
    "name": "ipython",
    "version": 3
   },
   "file_extension": ".py",
   "mimetype": "text/x-python",
   "name": "python",
   "nbconvert_exporter": "python",
   "pygments_lexer": "ipython3",
   "version": "3.10.11"
  }
 },
 "nbformat": 4,
 "nbformat_minor": 2
}
